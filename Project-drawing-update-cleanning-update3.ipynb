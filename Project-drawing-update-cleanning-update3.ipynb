{
 "cells": [
  {
   "cell_type": "code",
   "execution_count": 1,
   "metadata": {},
   "outputs": [],
   "source": [
    "import numpy as np\n",
    "import pandas as pd\n",
    "import os\n",
    "import matplotlib.pyplot as plt\n",
    "import itertools\n",
    "import pip\n",
    "import re\n",
    "from datetime import datetime\n",
    "%matplotlib inline"
   ]
  },
  {
   "cell_type": "markdown",
   "metadata": {},
   "source": [
    "# Docker-cpu"
   ]
  },
  {
   "cell_type": "code",
   "execution_count": 3,
   "metadata": {},
   "outputs": [],
   "source": [
    "n = 1\n",
    "thread = 1\n",
    "num = 24\n",
    "num_prime = 1000000\n",
    "for i in range(num):\n",
    "    df = pd.read_csv(\"MSC/Docker/cpu-test4/Docker-cpu\"+ str(n) +\"/CPU-thread\"+ str(thread) + \"-num_prime-\" + str(num_prime) +\".csv\")\n",
    "    df['threads'] = str(thread)\n",
    "    #print(df)\n",
    "    df.to_csv('MSC/Docker/cpu-test4/Docker-cpu'+ str(n) +'/CPU-thread'+ str(thread) + '-num_prime-' + str(num_prime) +'.csv',columns=['name','threads','time','usage_percent'],index=0,header=1)\n",
    "    thread += 1\n",
    "    if((i+1)%8 == 0):\n",
    "        num_prime += 1000000\n",
    "        n += 1\n",
    "        thread = 1\n",
    "n1 = 1\n",
    "num_test = 3\n",
    "for i in range(num_test):\n",
    "    file_path = \"MSC/Docker/cpu-test4/Docker-cpu\"+ str(n1)\n",
    "    path = os.listdir('MSC/Docker/cpu-test4/Docker-cpu'+ str(n1))\n",
    "    f = []\n",
    "    TF = True\n",
    "    for file in path:\n",
    "       #print(file)\n",
    "       if (file != '.ipynb_checkpoints'):\n",
    "            a = pd.read_csv(file_path + '/' + file)\n",
    "            b = a.iloc[:].to_csv(file_path + '/dockerCPU.csv', mode='a', index=False, header=TF)\n",
    "            TF = False\n",
    "    \n",
    "    n1 += 1\n",
    "    #print(f)\n"
   ]
  },
  {
   "cell_type": "code",
   "execution_count": null,
   "metadata": {},
   "outputs": [],
   "source": []
  },
  {
   "cell_type": "markdown",
   "metadata": {},
   "source": [
    "# VM-cpu"
   ]
  },
  {
   "cell_type": "code",
   "execution_count": 17,
   "metadata": {},
   "outputs": [],
   "source": [
    "n = 1\n",
    "thread = 1\n",
    "num = 24\n",
    "num_prime = 1000000\n",
    "i = 0\n",
    "for i in range(num):\n",
    "    df = pd.read_csv(\"MSC/VM/cpu-test6/vm-cpu\"+ str(n) +\"/CPU-thread\"+ str(thread) + \"-num_prime-\" + str(num_prime) +\".csv\")\n",
    "    df['threads'] = str(thread)\n",
    "    #print(df)\n",
    "    df.to_csv('MSC/VM/cpu-test6/vm-cpu'+ str(n) +'/CPU-thread'+ str(thread) + '-num_prime-' + str(num_prime) +'.csv',columns=['name','threads','time','cpu_usage'],index=0,header=1)\n",
    "    thread += 1\n",
    "    if((i+1)%8 == 0):\n",
    "        num_prime += 1000000\n",
    "        n += 1\n",
    "        thread = 1\n",
    "n1 = 1\n",
    "num_test = 3\n",
    "for i in range(num_test):\n",
    "    file_path = 'MSC/VM/cpu-test6/vm-cpu'+ str(n1)\n",
    "    path = os.listdir('MSC/VM/cpu-test6/vm-cpu'+ str(n1))\n",
    "    f = []\n",
    "    TF = True\n",
    "    for file in path:\n",
    "       #print(file)\n",
    "       if (file != '.ipynb_checkpoints'):\n",
    "            a = pd.read_csv(file_path + '/' + file)\n",
    "            b = a.iloc[:].to_csv(file_path + '/vmCPU.csv', mode='a', index=False, header=TF)\n",
    "            TF = False\n",
    "    \n",
    "    n1 += 1\n",
    "    #print(f)\n"
   ]
  },
  {
   "cell_type": "markdown",
   "metadata": {},
   "source": [
    "# PM-cpu"
   ]
  },
  {
   "cell_type": "code",
   "execution_count": 23,
   "metadata": {},
   "outputs": [],
   "source": [
    "n = 1\n",
    "thread = 1\n",
    "num = 24\n",
    "num_prime = 1000000\n",
    "i = 0\n",
    "for i in range(num):\n",
    "    df = pd.read_csv(\"MSC/PM/cpu-test4/pm-cpu\"+ str(n) +\"/CPU-thread\"+ str(thread) + \"-num_prime-\" + str(num_prime) +\".csv\")\n",
    "    df['threads'] = str(thread)\n",
    "    #print(df)\n",
    "    df.to_csv('MSC/PM/cpu-test4/pm-cpu'+ str(n) +'/CPU-thread'+ str(thread) + '-num_prime-' + str(num_prime) +'.csv',columns=['name','threads','time','cpu_usage'],index=0,header=1)\n",
    "    thread += 1\n",
    "    if((i+1)%8 == 0):\n",
    "        num_prime += 1000000\n",
    "        n += 1\n",
    "        thread = 1\n",
    "n1 = 1\n",
    "num_test = 3\n",
    "for i in range(num_test):\n",
    "    file_path = 'MSC/PM/cpu-test4/pm-cpu'+ str(n1)\n",
    "    path = os.listdir('MSC/PM/cpu-test4/pm-cpu'+ str(n1))\n",
    "    f = []\n",
    "    TF = True\n",
    "    for file in path:\n",
    "       #print(file)\n",
    "       if (file != '.ipynb_checkpoints'):\n",
    "            a = pd.read_csv(file_path + '/' + file)\n",
    "            b = a.iloc[:].to_csv(file_path + '/pmCPU.csv', mode='a', index=False, header=TF)\n",
    "            TF = False\n",
    "    \n",
    "    n1 += 1\n",
    "    #print(f)\n"
   ]
  },
  {
   "cell_type": "markdown",
   "metadata": {},
   "source": [
    "# Docker-io"
   ]
  },
  {
   "cell_type": "code",
   "execution_count": 6,
   "metadata": {},
   "outputs": [],
   "source": [
    "n = 1\n",
    "thread = 1\n",
    "num = 24\n",
    "num_size = 10\n",
    "for i in range(num):\n",
    "    df = pd.read_csv(\"MSC/Docker/io-test1/Docker-io\"+ str(n) +\"/IO-thread\"+ str(thread) + \"-num_size\" + str(num_size) +\"G.csv\")\n",
    "    df['threads'] = str(thread)\n",
    "    #print(df)\n",
    "    df.to_csv('MSC/Docker/io-test1/Docker-io'+ str(n) +'/IO-thread'+ str(thread) + '-num_size' + str(num_size) +'G.csv',columns=['name','threads','time','wr_sec_per_s','tps'],index=0,header=1)\n",
    "    thread += 1\n",
    "    if((i+1)%8 == 0):\n",
    "        num_size += 10\n",
    "        n += 1\n",
    "        thread = 1\n",
    "n1 = 1\n",
    "num_test = 3\n",
    "for i in range(num_test):\n",
    "    file_path = \"MSC/Docker/io-test1/Docker-io\"+ str(n1)\n",
    "    path = os.listdir('MSC/Docker/io-test1/Docker-io'+ str(n1))\n",
    "    f = []\n",
    "    TF = True\n",
    "    for file in path:\n",
    "       #print(file)\n",
    "       if (file != '.ipynb_checkpoints'):\n",
    "            a = pd.read_csv(file_path + '/' + file)\n",
    "            b = a.iloc[:].to_csv(file_path + '/dockerio.csv', mode='a', index=False, header=TF)\n",
    "            TF = False\n",
    "    \n",
    "    n1 += 1\n",
    "\n"
   ]
  },
  {
   "cell_type": "markdown",
   "metadata": {},
   "source": [
    "# VM-io"
   ]
  },
  {
   "cell_type": "code",
   "execution_count": 7,
   "metadata": {},
   "outputs": [],
   "source": [
    "n = 1\n",
    "thread = 1\n",
    "num = 24\n",
    "num_size = 10\n",
    "for i in range(num):\n",
    "    df = pd.read_csv(\"MSC/VM/io-test1/vm-io\"+ str(n) +\"/IO-thread\"+ str(thread) + \"-num_size\" + str(num_size) +\"G.csv\")\n",
    "    df['threads'] = str(thread)\n",
    "    #print(df)\n",
    "    df.to_csv('MSC/VM/io-test1/vm-io'+ str(n) +'/IO-thread'+ str(thread) + '-num_size' + str(num_size) +'G.csv',columns=['name','threads','time','wr_sec_per_s','tps'],index=0,header=1)\n",
    "    thread += 1\n",
    "    if((i+1)%8 == 0):\n",
    "        num_size += 10\n",
    "        n += 1\n",
    "        thread = 1\n",
    "n1 = 1\n",
    "num_test = 3\n",
    "for i in range(num_test):\n",
    "    file_path = \"MSC/VM/io-test1/vm-io\"+ str(n1)\n",
    "    path = os.listdir('MSC/VM/io-test1/vm-io'+ str(n1))\n",
    "    f = []\n",
    "    TF = True\n",
    "    for file in path:\n",
    "       #print(file)\n",
    "       if (file != '.ipynb_checkpoints'):\n",
    "            a = pd.read_csv(file_path + '/' + file)\n",
    "            b = a.iloc[:].to_csv(file_path + '/vmio.csv', mode='a', index=False, header=TF)\n",
    "            TF = False\n",
    "    \n",
    "    n1 += 1\n",
    "\n"
   ]
  },
  {
   "cell_type": "markdown",
   "metadata": {},
   "source": [
    "# PM-io"
   ]
  },
  {
   "cell_type": "code",
   "execution_count": 9,
   "metadata": {},
   "outputs": [],
   "source": [
    "n = 1\n",
    "thread = 1\n",
    "num = 24\n",
    "num_size = 10\n",
    "for i in range(num):\n",
    "    df = pd.read_csv(\"MSC/PM/io-test1/pm-io\"+ str(n) +\"/IO-thread\"+ str(thread) + \"-num_size\" + str(num_size) +\"G.csv\")\n",
    "    df['threads'] = str(thread)\n",
    "    #print(df)\n",
    "    df.to_csv('MSC/PM/io-test1/pm-io'+ str(n) +'/IO-thread'+ str(thread) + '-num_size' + str(num_size) +'G.csv',columns=['name','threads','time','wkB_per_s','tps'],index=0,header=1)\n",
    "    thread += 1\n",
    "    if((i+1)%8 == 0):\n",
    "        num_size += 10\n",
    "        n += 1\n",
    "        thread = 1\n",
    "n1 = 1\n",
    "num_test = 3\n",
    "for i in range(num_test):\n",
    "    file_path = \"MSC/PM/io-test1/pm-io\"+ str(n1)\n",
    "    path = os.listdir('MSC/PM/io-test1/pm-io'+ str(n1))\n",
    "    f = []\n",
    "    TF = True\n",
    "    for file in path:\n",
    "       #print(file)\n",
    "       if (file != '.ipynb_checkpoints'):\n",
    "            a = pd.read_csv(file_path + '/' + file)\n",
    "            b = a.iloc[:].to_csv(file_path + '/pmio.csv', mode='a', index=False, header=TF)\n",
    "            TF = False\n",
    "    \n",
    "    n1 += 1\n",
    "\n"
   ]
  },
  {
   "cell_type": "code",
   "execution_count": null,
   "metadata": {},
   "outputs": [],
   "source": []
  },
  {
   "cell_type": "code",
   "execution_count": null,
   "metadata": {},
   "outputs": [],
   "source": []
  }
 ],
 "metadata": {
  "kernelspec": {
   "display_name": "Python 3",
   "language": "python",
   "name": "python3"
  },
  "language_info": {
   "codemirror_mode": {
    "name": "ipython",
    "version": 3
   },
   "file_extension": ".py",
   "mimetype": "text/x-python",
   "name": "python",
   "nbconvert_exporter": "python",
   "pygments_lexer": "ipython3",
   "version": "3.6.5"
  }
 },
 "nbformat": 4,
 "nbformat_minor": 2
}
